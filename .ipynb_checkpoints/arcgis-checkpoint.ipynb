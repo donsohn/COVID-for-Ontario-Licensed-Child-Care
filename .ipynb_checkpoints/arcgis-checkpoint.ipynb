{
 "cells": [
  {
   "cell_type": "markdown",
   "metadata": {},
   "source": [
    "# Toronto Licensed Child Care\n"
   ]
  },
  {
   "cell_type": "code",
   "execution_count": 54,
   "metadata": {},
   "outputs": [],
   "source": [
    "import pandas as pd\n",
    "import os\n",
    "import requests\n",
    "import urllib.request\n",
    "from arcgis.gis import GIS\n",
    "from arcgis.geocoding import geocode\n",
    "from IPython.display import display"
   ]
  },
  {
   "cell_type": "code",
   "execution_count": 55,
   "metadata": {},
   "outputs": [],
   "source": [
    "url = 'http://opendata.toronto.ca/childrens.services/licensed-child-care-centres/child-care.csv'\n",
    "response = requests.get(url)\n",
    "s = requests.get(url).text\n",
    "lcc_df = pd.read_csv(StringIO(s))"
   ]
  },
  {
   "cell_type": "code",
   "execution_count": 56,
   "metadata": {},
   "outputs": [
    {
     "data": {
      "application/vnd.jupyter.widget-view+json": {
       "model_id": "61990f5d574a4eed914e7e84daac2795",
       "version_major": 2,
       "version_minor": 0
      },
      "text/plain": [
       "MapView(layout=Layout(height='400px', width='100%'))"
      ]
     },
     "metadata": {},
     "output_type": "display_data"
    },
    {
     "data": {
      "text/html": [
       "<div class=\"map-static-img-preview-370b4eab-1c29-406d-89e8-1b6417ec087f\"><img src=\"\"></img></div>"
      ],
      "text/plain": [
       "<IPython.core.display.HTML object>"
      ]
     },
     "metadata": {},
     "output_type": "display_data"
    }
   ],
   "source": [
    "gis = GIS()\n",
    "map1 = gis.map()\n",
    "map1"
   ]
  },
  {
   "cell_type": "code",
   "execution_count": 57,
   "metadata": {},
   "outputs": [],
   "source": [
    "toronto = geocode(\"Toronto\")[0]\n",
    "map1.extent = toronto['extent']\n",
    "map1.zoom = 14"
   ]
  },
  {
   "cell_type": "code",
   "execution_count": 58,
   "metadata": {},
   "outputs": [
    {
     "data": {
      "text/html": [
       "<div>\n",
       "<style scoped>\n",
       "    .dataframe tbody tr th:only-of-type {\n",
       "        vertical-align: middle;\n",
       "    }\n",
       "\n",
       "    .dataframe tbody tr th {\n",
       "        vertical-align: top;\n",
       "    }\n",
       "\n",
       "    .dataframe thead th {\n",
       "        text-align: right;\n",
       "    }\n",
       "</style>\n",
       "<table border=\"1\" class=\"dataframe\">\n",
       "  <thead>\n",
       "    <tr style=\"text-align: right;\">\n",
       "      <th></th>\n",
       "      <th>STR_NO</th>\n",
       "      <th>STREET</th>\n",
       "      <th>LOC_NAME</th>\n",
       "      <th>TOTSPACE</th>\n",
       "      <th>LONGITUDE</th>\n",
       "      <th>LATITUDE</th>\n",
       "    </tr>\n",
       "  </thead>\n",
       "  <tbody>\n",
       "    <tr>\n",
       "      <th>0</th>\n",
       "      <td>2920</td>\n",
       "      <td>LAWRENCE AVE E</td>\n",
       "      <td>Network Bendale Acres Child Care Centre</td>\n",
       "      <td>49</td>\n",
       "      <td>-79.252159</td>\n",
       "      <td>43.754895</td>\n",
       "    </tr>\n",
       "    <tr>\n",
       "      <th>1</th>\n",
       "      <td>1087</td>\n",
       "      <td>LILLIAN ST</td>\n",
       "      <td>The Munchkin Manor Daycare &amp; Early Learning Ce...</td>\n",
       "      <td>68</td>\n",
       "      <td>-79.410405</td>\n",
       "      <td>43.798487</td>\n",
       "    </tr>\n",
       "    <tr>\n",
       "      <th>2</th>\n",
       "      <td>33</td>\n",
       "      <td>MALLARD RD</td>\n",
       "      <td>St. George Mini School - Mallard</td>\n",
       "      <td>57</td>\n",
       "      <td>-79.349584</td>\n",
       "      <td>43.747288</td>\n",
       "    </tr>\n",
       "    <tr>\n",
       "      <th>3</th>\n",
       "      <td>2</td>\n",
       "      <td>WEMBLEY RD</td>\n",
       "      <td>Alive Montessori &amp; Private School</td>\n",
       "      <td>24</td>\n",
       "      <td>-79.426064</td>\n",
       "      <td>43.701896</td>\n",
       "    </tr>\n",
       "    <tr>\n",
       "      <th>4</th>\n",
       "      <td>2379</td>\n",
       "      <td>LAKE SHORE BLVD W</td>\n",
       "      <td>Martin Luther Church Day Nursery B &amp; A</td>\n",
       "      <td>30</td>\n",
       "      <td>-79.488002</td>\n",
       "      <td>43.615341</td>\n",
       "    </tr>\n",
       "    <tr>\n",
       "      <th>...</th>\n",
       "      <td>...</td>\n",
       "      <td>...</td>\n",
       "      <td>...</td>\n",
       "      <td>...</td>\n",
       "      <td>...</td>\n",
       "      <td>...</td>\n",
       "    </tr>\n",
       "    <tr>\n",
       "      <th>1031</th>\n",
       "      <td>76</td>\n",
       "      <td>ANGLESEY BLVD</td>\n",
       "      <td>Hillside Montessori School</td>\n",
       "      <td>24</td>\n",
       "      <td>-79.528990</td>\n",
       "      <td>43.665146</td>\n",
       "    </tr>\n",
       "    <tr>\n",
       "      <th>1032</th>\n",
       "      <td>25</td>\n",
       "      <td>OLD YORK MILLS RD</td>\n",
       "      <td>Yes I Can Nursery School</td>\n",
       "      <td>24</td>\n",
       "      <td>-79.404312</td>\n",
       "      <td>43.743404</td>\n",
       "    </tr>\n",
       "    <tr>\n",
       "      <th>1033</th>\n",
       "      <td>383</td>\n",
       "      <td>HURON ST</td>\n",
       "      <td>Huron Playschool Co-Operative</td>\n",
       "      <td>20</td>\n",
       "      <td>-79.400742</td>\n",
       "      <td>43.665917</td>\n",
       "    </tr>\n",
       "    <tr>\n",
       "      <th>1034</th>\n",
       "      <td>630</td>\n",
       "      <td>SPADINA AVE</td>\n",
       "      <td>Kodomoen Childcare Centre</td>\n",
       "      <td>24</td>\n",
       "      <td>-79.402393</td>\n",
       "      <td>43.662549</td>\n",
       "    </tr>\n",
       "    <tr>\n",
       "      <th>1035</th>\n",
       "      <td>516</td>\n",
       "      <td>THE KINGSWAY</td>\n",
       "      <td>Ukrainian Co-Op Nursery School</td>\n",
       "      <td>48</td>\n",
       "      <td>-79.548194</td>\n",
       "      <td>43.673585</td>\n",
       "    </tr>\n",
       "  </tbody>\n",
       "</table>\n",
       "<p>1036 rows × 6 columns</p>\n",
       "</div>"
      ],
      "text/plain": [
       "     STR_NO             STREET  \\\n",
       "0      2920     LAWRENCE AVE E   \n",
       "1      1087         LILLIAN ST   \n",
       "2        33         MALLARD RD   \n",
       "3         2         WEMBLEY RD   \n",
       "4      2379  LAKE SHORE BLVD W   \n",
       "...     ...                ...   \n",
       "1031     76      ANGLESEY BLVD   \n",
       "1032     25  OLD YORK MILLS RD   \n",
       "1033    383           HURON ST   \n",
       "1034    630        SPADINA AVE   \n",
       "1035    516       THE KINGSWAY   \n",
       "\n",
       "                                               LOC_NAME  TOTSPACE  LONGITUDE  \\\n",
       "0               Network Bendale Acres Child Care Centre        49 -79.252159   \n",
       "1     The Munchkin Manor Daycare & Early Learning Ce...        68 -79.410405   \n",
       "2                      St. George Mini School - Mallard        57 -79.349584   \n",
       "3                     Alive Montessori & Private School        24 -79.426064   \n",
       "4                Martin Luther Church Day Nursery B & A        30 -79.488002   \n",
       "...                                                 ...       ...        ...   \n",
       "1031                         Hillside Montessori School        24 -79.528990   \n",
       "1032                           Yes I Can Nursery School        24 -79.404312   \n",
       "1033                      Huron Playschool Co-Operative        20 -79.400742   \n",
       "1034                          Kodomoen Childcare Centre        24 -79.402393   \n",
       "1035                     Ukrainian Co-Op Nursery School        48 -79.548194   \n",
       "\n",
       "       LATITUDE  \n",
       "0     43.754895  \n",
       "1     43.798487  \n",
       "2     43.747288  \n",
       "3     43.701896  \n",
       "4     43.615341  \n",
       "...         ...  \n",
       "1031  43.665146  \n",
       "1032  43.743404  \n",
       "1033  43.665917  \n",
       "1034  43.662549  \n",
       "1035  43.673585  \n",
       "\n",
       "[1036 rows x 6 columns]"
      ]
     },
     "execution_count": 58,
     "metadata": {},
     "output_type": "execute_result"
    }
   ],
   "source": [
    "lcc_df = lcc_df[['STR_NO', 'STREET','LOC_NAME','TOTSPACE','LONGITUDE','LATITUDE']]\n",
    "lcc_df"
   ]
  },
  {
   "cell_type": "code",
   "execution_count": 59,
   "metadata": {},
   "outputs": [],
   "source": [
    "lcc_df['ADDRESS'] = lcc_df['STR_NO']+ \" \" +lcc_df['STREET']"
   ]
  },
  {
   "cell_type": "code",
   "execution_count": 60,
   "metadata": {},
   "outputs": [],
   "source": [
    "lcc_df = lcc_df[['LOC_NAME','ADDRESS','TOTSPACE','LONGITUDE','LATITUDE']]\n",
    "lcc_df.columns = ['Name','Address','Total Capacity','Longitude','Latitude']"
   ]
  },
  {
   "cell_type": "code",
   "execution_count": 61,
   "metadata": {},
   "outputs": [
    {
     "data": {
      "text/html": [
       "<div>\n",
       "<style scoped>\n",
       "    .dataframe tbody tr th:only-of-type {\n",
       "        vertical-align: middle;\n",
       "    }\n",
       "\n",
       "    .dataframe tbody tr th {\n",
       "        vertical-align: top;\n",
       "    }\n",
       "\n",
       "    .dataframe thead th {\n",
       "        text-align: right;\n",
       "    }\n",
       "</style>\n",
       "<table border=\"1\" class=\"dataframe\">\n",
       "  <thead>\n",
       "    <tr style=\"text-align: right;\">\n",
       "      <th></th>\n",
       "      <th>Name</th>\n",
       "      <th>Address</th>\n",
       "      <th>Total Capacity</th>\n",
       "      <th>Longitude</th>\n",
       "      <th>Latitude</th>\n",
       "    </tr>\n",
       "  </thead>\n",
       "  <tbody>\n",
       "    <tr>\n",
       "      <th>0</th>\n",
       "      <td>Network Bendale Acres Child Care Centre</td>\n",
       "      <td>2920 LAWRENCE AVE E</td>\n",
       "      <td>49</td>\n",
       "      <td>-79.252159</td>\n",
       "      <td>43.754895</td>\n",
       "    </tr>\n",
       "    <tr>\n",
       "      <th>1</th>\n",
       "      <td>The Munchkin Manor Daycare &amp; Early Learning Ce...</td>\n",
       "      <td>1087 LILLIAN ST</td>\n",
       "      <td>68</td>\n",
       "      <td>-79.410405</td>\n",
       "      <td>43.798487</td>\n",
       "    </tr>\n",
       "    <tr>\n",
       "      <th>2</th>\n",
       "      <td>St. George Mini School - Mallard</td>\n",
       "      <td>33 MALLARD RD</td>\n",
       "      <td>57</td>\n",
       "      <td>-79.349584</td>\n",
       "      <td>43.747288</td>\n",
       "    </tr>\n",
       "    <tr>\n",
       "      <th>3</th>\n",
       "      <td>Alive Montessori &amp; Private School</td>\n",
       "      <td>2 WEMBLEY RD</td>\n",
       "      <td>24</td>\n",
       "      <td>-79.426064</td>\n",
       "      <td>43.701896</td>\n",
       "    </tr>\n",
       "    <tr>\n",
       "      <th>4</th>\n",
       "      <td>Martin Luther Church Day Nursery B &amp; A</td>\n",
       "      <td>2379 LAKE SHORE BLVD W</td>\n",
       "      <td>30</td>\n",
       "      <td>-79.488002</td>\n",
       "      <td>43.615341</td>\n",
       "    </tr>\n",
       "    <tr>\n",
       "      <th>...</th>\n",
       "      <td>...</td>\n",
       "      <td>...</td>\n",
       "      <td>...</td>\n",
       "      <td>...</td>\n",
       "      <td>...</td>\n",
       "    </tr>\n",
       "    <tr>\n",
       "      <th>1031</th>\n",
       "      <td>Hillside Montessori School</td>\n",
       "      <td>76 ANGLESEY BLVD</td>\n",
       "      <td>24</td>\n",
       "      <td>-79.528990</td>\n",
       "      <td>43.665146</td>\n",
       "    </tr>\n",
       "    <tr>\n",
       "      <th>1032</th>\n",
       "      <td>Yes I Can Nursery School</td>\n",
       "      <td>25 OLD YORK MILLS RD</td>\n",
       "      <td>24</td>\n",
       "      <td>-79.404312</td>\n",
       "      <td>43.743404</td>\n",
       "    </tr>\n",
       "    <tr>\n",
       "      <th>1033</th>\n",
       "      <td>Huron Playschool Co-Operative</td>\n",
       "      <td>383 HURON ST</td>\n",
       "      <td>20</td>\n",
       "      <td>-79.400742</td>\n",
       "      <td>43.665917</td>\n",
       "    </tr>\n",
       "    <tr>\n",
       "      <th>1034</th>\n",
       "      <td>Kodomoen Childcare Centre</td>\n",
       "      <td>630 SPADINA AVE</td>\n",
       "      <td>24</td>\n",
       "      <td>-79.402393</td>\n",
       "      <td>43.662549</td>\n",
       "    </tr>\n",
       "    <tr>\n",
       "      <th>1035</th>\n",
       "      <td>Ukrainian Co-Op Nursery School</td>\n",
       "      <td>516 THE KINGSWAY</td>\n",
       "      <td>48</td>\n",
       "      <td>-79.548194</td>\n",
       "      <td>43.673585</td>\n",
       "    </tr>\n",
       "  </tbody>\n",
       "</table>\n",
       "<p>1036 rows × 5 columns</p>\n",
       "</div>"
      ],
      "text/plain": [
       "                                                   Name  \\\n",
       "0               Network Bendale Acres Child Care Centre   \n",
       "1     The Munchkin Manor Daycare & Early Learning Ce...   \n",
       "2                      St. George Mini School - Mallard   \n",
       "3                     Alive Montessori & Private School   \n",
       "4                Martin Luther Church Day Nursery B & A   \n",
       "...                                                 ...   \n",
       "1031                         Hillside Montessori School   \n",
       "1032                           Yes I Can Nursery School   \n",
       "1033                      Huron Playschool Co-Operative   \n",
       "1034                          Kodomoen Childcare Centre   \n",
       "1035                     Ukrainian Co-Op Nursery School   \n",
       "\n",
       "                     Address  Total Capacity  Longitude   Latitude  \n",
       "0        2920 LAWRENCE AVE E              49 -79.252159  43.754895  \n",
       "1            1087 LILLIAN ST              68 -79.410405  43.798487  \n",
       "2              33 MALLARD RD              57 -79.349584  43.747288  \n",
       "3               2 WEMBLEY RD              24 -79.426064  43.701896  \n",
       "4     2379 LAKE SHORE BLVD W              30 -79.488002  43.615341  \n",
       "...                      ...             ...        ...        ...  \n",
       "1031        76 ANGLESEY BLVD              24 -79.528990  43.665146  \n",
       "1032    25 OLD YORK MILLS RD              24 -79.404312  43.743404  \n",
       "1033            383 HURON ST              20 -79.400742  43.665917  \n",
       "1034         630 SPADINA AVE              24 -79.402393  43.662549  \n",
       "1035        516 THE KINGSWAY              48 -79.548194  43.673585  \n",
       "\n",
       "[1036 rows x 5 columns]"
      ]
     },
     "execution_count": 61,
     "metadata": {},
     "output_type": "execute_result"
    }
   ],
   "source": [
    "lcc_df"
   ]
  },
  {
   "cell_type": "code",
   "execution_count": 62,
   "metadata": {},
   "outputs": [
    {
     "data": {
      "text/plain": [
       "Name              0\n",
       "Address           0\n",
       "Total Capacity    0\n",
       "Longitude         7\n",
       "Latitude          7\n",
       "dtype: int64"
      ]
     },
     "execution_count": 62,
     "metadata": {},
     "output_type": "execute_result"
    }
   ],
   "source": [
    "lcc_df.isna().sum()"
   ]
  },
  {
   "cell_type": "code",
   "execution_count": 63,
   "metadata": {},
   "outputs": [
    {
     "data": {
      "text/html": [
       "<div>\n",
       "<style scoped>\n",
       "    .dataframe tbody tr th:only-of-type {\n",
       "        vertical-align: middle;\n",
       "    }\n",
       "\n",
       "    .dataframe tbody tr th {\n",
       "        vertical-align: top;\n",
       "    }\n",
       "\n",
       "    .dataframe thead th {\n",
       "        text-align: right;\n",
       "    }\n",
       "</style>\n",
       "<table border=\"1\" class=\"dataframe\">\n",
       "  <thead>\n",
       "    <tr style=\"text-align: right;\">\n",
       "      <th></th>\n",
       "      <th>Name</th>\n",
       "      <th>Address</th>\n",
       "      <th>Total Capacity</th>\n",
       "      <th>Longitude</th>\n",
       "      <th>Latitude</th>\n",
       "    </tr>\n",
       "  </thead>\n",
       "  <tbody>\n",
       "    <tr>\n",
       "      <th>35</th>\n",
       "      <td>All My Children Child Care</td>\n",
       "      <td>1590 SANDHURST CIRCLE</td>\n",
       "      <td>60</td>\n",
       "      <td>NaN</td>\n",
       "      <td>NaN</td>\n",
       "    </tr>\n",
       "    <tr>\n",
       "      <th>66</th>\n",
       "      <td>Lily's House Day Care Centre</td>\n",
       "      <td>1032 COXWELL AVE</td>\n",
       "      <td>16</td>\n",
       "      <td>NaN</td>\n",
       "      <td>NaN</td>\n",
       "    </tr>\n",
       "    <tr>\n",
       "      <th>228</th>\n",
       "      <td>Queen's Park Child Care Centre</td>\n",
       "      <td>7 QUEENS PARK CRES E</td>\n",
       "      <td>88</td>\n",
       "      <td>NaN</td>\n",
       "      <td>NaN</td>\n",
       "    </tr>\n",
       "    <tr>\n",
       "      <th>229</th>\n",
       "      <td>Kids &amp; Company King And Highline</td>\n",
       "      <td>1100 KING ST W</td>\n",
       "      <td>74</td>\n",
       "      <td>NaN</td>\n",
       "      <td>NaN</td>\n",
       "    </tr>\n",
       "    <tr>\n",
       "      <th>308</th>\n",
       "      <td>Creative Minds Montessori Academy</td>\n",
       "      <td>285 LAWSON RD</td>\n",
       "      <td>61</td>\n",
       "      <td>NaN</td>\n",
       "      <td>NaN</td>\n",
       "    </tr>\n",
       "    <tr>\n",
       "      <th>373</th>\n",
       "      <td>George Brown - Richmond Adelaide Childcare Centre</td>\n",
       "      <td>130 ADELAIDE ST W</td>\n",
       "      <td>65</td>\n",
       "      <td>NaN</td>\n",
       "      <td>NaN</td>\n",
       "    </tr>\n",
       "    <tr>\n",
       "      <th>455</th>\n",
       "      <td>Growing Steps Child Care Centre</td>\n",
       "      <td>4105 LAWRENCE AVE E</td>\n",
       "      <td>142</td>\n",
       "      <td>NaN</td>\n",
       "      <td>NaN</td>\n",
       "    </tr>\n",
       "  </tbody>\n",
       "</table>\n",
       "</div>"
      ],
      "text/plain": [
       "                                                  Name                Address  \\\n",
       "35                          All My Children Child Care  1590 SANDHURST CIRCLE   \n",
       "66                        Lily's House Day Care Centre       1032 COXWELL AVE   \n",
       "228                     Queen's Park Child Care Centre   7 QUEENS PARK CRES E   \n",
       "229                   Kids & Company King And Highline         1100 KING ST W   \n",
       "308                  Creative Minds Montessori Academy          285 LAWSON RD   \n",
       "373  George Brown - Richmond Adelaide Childcare Centre      130 ADELAIDE ST W   \n",
       "455                    Growing Steps Child Care Centre    4105 LAWRENCE AVE E   \n",
       "\n",
       "     Total Capacity  Longitude  Latitude  \n",
       "35               60        NaN       NaN  \n",
       "66               16        NaN       NaN  \n",
       "228              88        NaN       NaN  \n",
       "229              74        NaN       NaN  \n",
       "308              61        NaN       NaN  \n",
       "373              65        NaN       NaN  \n",
       "455             142        NaN       NaN  "
      ]
     },
     "execution_count": 63,
     "metadata": {},
     "output_type": "execute_result"
    }
   ],
   "source": [
    "lcc_df[lcc_df['Longitude'].isnull()]\n",
    "\n",
    "# Later on I need to deal with the 7 NaN - can use geocode to get longitude/latitude based on address + city"
   ]
  },
  {
   "cell_type": "code",
   "execution_count": 64,
   "metadata": {},
   "outputs": [],
   "source": [
    "lcc_df = lcc_df[lcc_df['Longitude'].notna()]"
   ]
  },
  {
   "cell_type": "code",
   "execution_count": 65,
   "metadata": {},
   "outputs": [],
   "source": [
    "lcc_df = lcc_df.reset_index()\n",
    "del lcc_df['index']"
   ]
  },
  {
   "cell_type": "markdown",
   "metadata": {},
   "source": [
    "## My problem:\n",
    "## If I try to load the complete dataframe, get error.\n"
   ]
  },
  {
   "cell_type": "code",
   "execution_count": 66,
   "metadata": {},
   "outputs": [
    {
     "ename": "TypeError",
     "evalue": "'Response' object is not subscriptable",
     "output_type": "error",
     "traceback": [
      "\u001b[0;31m---------------------------------------------------------------------------\u001b[0m",
      "\u001b[0;31mTypeError\u001b[0m                                 Traceback (most recent call last)",
      "\u001b[0;32m<ipython-input-66-929b02633ee2>\u001b[0m in \u001b[0;36m<module>\u001b[0;34m\u001b[0m\n\u001b[0;32m----> 1\u001b[0;31m \u001b[0mlcc1\u001b[0m \u001b[0;34m=\u001b[0m \u001b[0mgis\u001b[0m\u001b[0;34m.\u001b[0m\u001b[0mcontent\u001b[0m\u001b[0;34m.\u001b[0m\u001b[0mimport_data\u001b[0m\u001b[0;34m(\u001b[0m\u001b[0mlcc_df\u001b[0m\u001b[0;34m)\u001b[0m\u001b[0;34m\u001b[0m\u001b[0;34m\u001b[0m\u001b[0m\n\u001b[0m",
      "\u001b[0;32m/opt/anaconda3/lib/python3.8/site-packages/arcgis/gis/__init__.py\u001b[0m in \u001b[0;36mimport_data\u001b[0;34m(self, df, address_fields, folder, item_id, **kwargs)\u001b[0m\n\u001b[1;32m   4935\u001b[0m             \u001b[0;32mif\u001b[0m \u001b[0mitem_id\u001b[0m\u001b[0;34m:\u001b[0m\u001b[0;34m\u001b[0m\u001b[0;34m\u001b[0m\u001b[0m\n\u001b[1;32m   4936\u001b[0m                 \u001b[0mpostdata\u001b[0m\u001b[0;34m[\u001b[0m\u001b[0;34m'itemIdToCreate'\u001b[0m\u001b[0;34m]\u001b[0m \u001b[0;34m=\u001b[0m \u001b[0mitem_id\u001b[0m\u001b[0;34m\u001b[0m\u001b[0;34m\u001b[0m\u001b[0m\n\u001b[0;32m-> 4937\u001b[0;31m             \u001b[0mres\u001b[0m \u001b[0;34m=\u001b[0m \u001b[0mself\u001b[0m\u001b[0;34m.\u001b[0m\u001b[0m_portal\u001b[0m\u001b[0;34m.\u001b[0m\u001b[0mcon\u001b[0m\u001b[0;34m.\u001b[0m\u001b[0mpost\u001b[0m\u001b[0;34m(\u001b[0m\u001b[0mpath\u001b[0m\u001b[0;34m,\u001b[0m \u001b[0mpostdata\u001b[0m\u001b[0;34m)\u001b[0m\u001b[0;31m#, use_ordered_dict=True) - OrderedDict >36< PropertyMap\u001b[0m\u001b[0;34m\u001b[0m\u001b[0;34m\u001b[0m\u001b[0m\n\u001b[0m\u001b[1;32m   4938\u001b[0m \u001b[0;34m\u001b[0m\u001b[0m\n\u001b[1;32m   4939\u001b[0m             \u001b[0mfc\u001b[0m \u001b[0;34m=\u001b[0m \u001b[0mFeatureCollection\u001b[0m\u001b[0;34m(\u001b[0m\u001b[0mres\u001b[0m\u001b[0;34m[\u001b[0m\u001b[0;34m'featureCollection'\u001b[0m\u001b[0;34m]\u001b[0m\u001b[0;34m[\u001b[0m\u001b[0;34m'layers'\u001b[0m\u001b[0;34m]\u001b[0m\u001b[0;34m[\u001b[0m\u001b[0;36m0\u001b[0m\u001b[0;34m]\u001b[0m\u001b[0;34m)\u001b[0m\u001b[0;34m\u001b[0m\u001b[0;34m\u001b[0m\u001b[0m\n",
      "\u001b[0;32m/opt/anaconda3/lib/python3.8/site-packages/arcgis/gis/_impl/_con/_connection.py\u001b[0m in \u001b[0;36mpost\u001b[0;34m(self, path, params, files, **kwargs)\u001b[0m\n\u001b[1;32m    704\u001b[0m                 'An unknown error occurred: %s' % traceback.format_exc())\n\u001b[1;32m    705\u001b[0m \u001b[0;34m\u001b[0m\u001b[0m\n\u001b[0;32m--> 706\u001b[0;31m         return self._handle_response(resp=resp,\n\u001b[0m\u001b[1;32m    707\u001b[0m                                      \u001b[0mout_path\u001b[0m\u001b[0;34m=\u001b[0m\u001b[0mout_path\u001b[0m\u001b[0;34m,\u001b[0m\u001b[0;34m\u001b[0m\u001b[0;34m\u001b[0m\u001b[0m\n\u001b[1;32m    708\u001b[0m                                      \u001b[0mfile_name\u001b[0m\u001b[0;34m=\u001b[0m\u001b[0mfile_name\u001b[0m\u001b[0;34m,\u001b[0m\u001b[0;34m\u001b[0m\u001b[0;34m\u001b[0m\u001b[0m\n",
      "\u001b[0;32m/opt/anaconda3/lib/python3.8/site-packages/arcgis/gis/_impl/_con/_connection.py\u001b[0m in \u001b[0;36m_handle_response\u001b[0;34m(self, resp, file_name, out_path, try_json, force_bytes)\u001b[0m\n\u001b[1;32m    493\u001b[0m                 \u001b[0mdata\u001b[0m \u001b[0;34m=\u001b[0m \u001b[0mjson\u001b[0m\u001b[0;34m.\u001b[0m\u001b[0mloads\u001b[0m\u001b[0;34m(\u001b[0m\u001b[0mdata\u001b[0m\u001b[0;34m)\u001b[0m\u001b[0;34m\u001b[0m\u001b[0;34m\u001b[0m\u001b[0m\n\u001b[1;32m    494\u001b[0m                 \u001b[0;32mif\u001b[0m \u001b[0;34m'error'\u001b[0m \u001b[0;32min\u001b[0m \u001b[0mdata\u001b[0m\u001b[0;34m:\u001b[0m\u001b[0;34m\u001b[0m\u001b[0;34m\u001b[0m\u001b[0m\n\u001b[0;32m--> 495\u001b[0;31m                     \u001b[0;32mraise\u001b[0m \u001b[0mException\u001b[0m\u001b[0;34m(\u001b[0m\u001b[0mresp\u001b[0m\u001b[0;34m[\u001b[0m\u001b[0;34m'error'\u001b[0m\u001b[0;34m]\u001b[0m\u001b[0;34m)\u001b[0m\u001b[0;34m\u001b[0m\u001b[0;34m\u001b[0m\u001b[0m\n\u001b[0m\u001b[1;32m    496\u001b[0m             \u001b[0;32melse\u001b[0m\u001b[0;34m:\u001b[0m\u001b[0;34m\u001b[0m\u001b[0;34m\u001b[0m\u001b[0m\n\u001b[1;32m    497\u001b[0m                 \u001b[0mdata\u001b[0m \u001b[0;34m=\u001b[0m \u001b[0mresp\u001b[0m\u001b[0;34m.\u001b[0m\u001b[0mjson\u001b[0m\u001b[0;34m(\u001b[0m\u001b[0;34m)\u001b[0m\u001b[0;34m\u001b[0m\u001b[0;34m\u001b[0m\u001b[0m\n",
      "\u001b[0;31mTypeError\u001b[0m: 'Response' object is not subscriptable"
     ]
    }
   ],
   "source": [
    "lcc1 = gis.content.import_data(lcc_df)"
   ]
  },
  {
   "cell_type": "code",
   "execution_count": null,
   "metadata": {},
   "outputs": [],
   "source": [
    "map1.add_layer(lcc1)"
   ]
  },
  {
   "cell_type": "markdown",
   "metadata": {},
   "source": [
    "## If I try to load first 1018 rows, its ok, so something amiss when I get to row 1019\n",
    "## I looked at the record and nothing strange with it\n",
    "## I tried droppping row 1019, reindexing, and loading, but get same error\n"
   ]
  },
  {
   "cell_type": "code",
   "execution_count": 67,
   "metadata": {},
   "outputs": [],
   "source": [
    "lcc_df2 = lcc_df.head(1018)\n",
    "lcc1 = gis.content.import_data(lcc_df2)\n",
    "map1.add_layer(lcc1)"
   ]
  },
  {
   "cell_type": "code",
   "execution_count": null,
   "metadata": {},
   "outputs": [],
   "source": []
  }
 ],
 "metadata": {
  "kernelspec": {
   "display_name": "Python 3",
   "language": "python",
   "name": "python3"
  },
  "language_info": {
   "codemirror_mode": {
    "name": "ipython",
    "version": 3
   },
   "file_extension": ".py",
   "mimetype": "text/x-python",
   "name": "python",
   "nbconvert_exporter": "python",
   "pygments_lexer": "ipython3",
   "version": "3.8.3"
  }
 },
 "nbformat": 4,
 "nbformat_minor": 1
}
